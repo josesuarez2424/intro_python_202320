{
  "nbformat": 4,
  "nbformat_minor": 0,
  "metadata": {
    "colab": {
      "provenance": [],
      "authorship_tag": "ABX9TyO8SH+Lpn7Ucxj+LN0BNVC7",
      "include_colab_link": true
    },
    "kernelspec": {
      "name": "python3",
      "display_name": "Python 3"
    },
    "language_info": {
      "name": "python"
    }
  },
  "cells": [
    {
      "cell_type": "markdown",
      "metadata": {
        "id": "view-in-github",
        "colab_type": "text"
      },
      "source": [
        "<a href=\"https://colab.research.google.com/github/josesuarez2424/intro_python_202320/blob/main/introduction.ipynb\" target=\"_parent\"><img src=\"https://colab.research.google.com/assets/colab-badge.svg\" alt=\"Open In Colab\"/></a>"
      ]
    },
    {
      "cell_type": "markdown",
      "source": [
        "# introduccion a python"
      ],
      "metadata": {
        "id": "BnsTQOBHFySu"
      }
    },
    {
      "cell_type": "markdown",
      "source": [
        "# introduccion a python\n",
        "## curso de programacion y algorimia upb 202320\n",
        "\n",
        "- Nombre: jose daniel suarez y Angely Jaramillo Carvajal\n",
        "- ID: 00453189 , 000499571\n",
        "- Email: suarez.josedaniel03@gmail.com , angely.jaramillo@gmail.com\n",
        "\n",
        "esta es la expresion de la linea  recta:\n",
        "$$y = mx + b$$\n",
        "\n",
        "donde $x$ es la posicion\n",
        "\n"
      ],
      "metadata": {
        "id": "vlycx1BwFjWY"
      }
    },
    {
      "cell_type": "code",
      "source": [
        "# mis primeras lineas de codigo en python\n",
        "\n",
        "name = \"jose daniel\"\n",
        "print(\"hello,\", name)\n"
      ],
      "metadata": {
        "colab": {
          "base_uri": "https://localhost:8080/"
        },
        "id": "pzQBG5RuINdM",
        "outputId": "a5cdd59c-f268-4afe-f5ce-3a7d29754dfd"
      },
      "execution_count": null,
      "outputs": [
        {
          "output_type": "stream",
          "name": "stdout",
          "text": [
            "hello, jose daniel\n"
          ]
        }
      ]
    },
    {
      "cell_type": "code",
      "source": [
        "from typing_extensions import AsyncGenerator\n",
        "firstname = \"jose\"\n",
        "lastname = \"suarez\"\n",
        "age = \"20\"\n",
        "city = \"san marcos\"\n",
        "food = \"mote de queso\"\n",
        "\n",
        "print(\"hola, mi nombre es\", firstname, \"tengo\" , age, \"años, vivo en\" , city, \"y me gusta el\", food)\n",
        "\n"
      ],
      "metadata": {
        "colab": {
          "base_uri": "https://localhost:8080/"
        },
        "id": "o7X8K2JWSLyY",
        "outputId": "eb606075-ef31-4178-85c4-d12e07edce99"
      },
      "execution_count": null,
      "outputs": [
        {
          "output_type": "stream",
          "name": "stdout",
          "text": [
            "hola, mi nombre es jose tengo 20 años, vivo en san marcos y me gusta el mote de queso\n"
          ]
        }
      ]
    },
    {
      "cell_type": "code",
      "source": [
        "a = 3\n",
        "b = 4.5\n",
        "c = a + b\n",
        "print(type(a))\n",
        "print(type(b))\n",
        "print(c)\n",
        "c = c * a\n",
        "print(c)\n",
        "c = int(c / b)\n",
        "print(c)\n",
        "d = 0.3\n",
        "c += 0.3\n",
        "print(c)\n",
        "d = 0.3\n",
        "c /= d\n",
        "print(c)\n",
        "\n",
        "\n",
        "\n"
      ],
      "metadata": {
        "colab": {
          "base_uri": "https://localhost:8080/"
        },
        "id": "3jgM9Dd3avwD",
        "outputId": "a193d07e-1dad-4f8f-d700-d452e2032cd6"
      },
      "execution_count": 11,
      "outputs": [
        {
          "output_type": "stream",
          "name": "stdout",
          "text": [
            "<class 'int'>\n",
            "<class 'float'>\n",
            "7.5\n",
            "22.5\n",
            "5\n",
            "5.3\n",
            "17.666666666666668\n"
          ]
        }
      ]
    },
    {
      "cell_type": "code",
      "source": [
        "m = 5\n",
        "b = 2\n",
        "x = -3\n",
        "y = m * x + b\n",
        "print(x, \"/---/\" , y)\n",
        "x = -2\n",
        "y = m * x + b\n",
        "print(x, \"/---/\" , y)\n",
        "x = -1\n",
        "y = m * x + b\n",
        "print(x, \"/---/\" , y)\n",
        "\n",
        "\n"
      ],
      "metadata": {
        "colab": {
          "base_uri": "https://localhost:8080/"
        },
        "id": "qa14xhhSeLne",
        "outputId": "86e9ed14-f405-48c9-c1df-cb9802ff4c0d"
      },
      "execution_count": 17,
      "outputs": [
        {
          "output_type": "stream",
          "name": "stdout",
          "text": [
            "-3 /---/ -13\n",
            "-2 /---/ -8\n",
            "-1 /---/ -3\n"
          ]
        }
      ]
    },
    {
      "cell_type": "code",
      "source": [
        "a = 0.1\n",
        "b = -2\n",
        "c = 0.5\n",
        "\n",
        "disc = (b ** 2 - 4 * a * c) ** (1/2)\n",
        "x_p = (-b + disc) / (2 * a)\n",
        "x_n = (-b - disc) / (2 * a)\n",
        "print(\"x_p:\" , x_p)\n",
        "print(\"x_n:\" , x_n)\n",
        "print(\"-\"*10)"
      ],
      "metadata": {
        "colab": {
          "base_uri": "https://localhost:8080/"
        },
        "id": "w8H0JX1RhqUC",
        "outputId": "19771277-cf14-47c7-8bbd-f033ad0f97a2"
      },
      "execution_count": 19,
      "outputs": [
        {
          "output_type": "stream",
          "name": "stdout",
          "text": [
            "x_p: 19.74679434480896\n",
            "x_n: 0.25320565519103666\n",
            "----------\n"
          ]
        }
      ]
    },
    {
      "cell_type": "code",
      "source": [
        "a =\n",
        "b =\n",
        "c =\n",
        "\n",
        "disc = (b ** 2 - 4 * a * c) ** (1/2)\n",
        "x_p = (-b + disc) / (2 * a)\n",
        "x_n = (-b - disc) / (2 * a)\n",
        "print(\"x_p:\" , x_p)\n",
        "print(\"x_n:\" , x_n)\n",
        "print(\"-\"*10)"
      ],
      "metadata": {
        "id": "-Z-9PwMykXk3"
      },
      "execution_count": null,
      "outputs": []
    },
    {
      "cell_type": "code",
      "source": [
        "a =\n",
        "b =\n",
        "c =\n",
        "\n",
        "disc = (b ** 2 - 4 * a * c) ** (1/2)\n",
        "x_p = (-b + disc) / (2 * a)\n",
        "x_n = (-b - disc) / (2 * a)\n",
        "print(\"x_p:\" , x_p)\n",
        "print(\"x_n:\" , x_n)\n",
        "print(\"-\"*10)"
      ],
      "metadata": {
        "id": "QGmKngr0kcJe"
      },
      "execution_count": null,
      "outputs": []
    },
    {
      "cell_type": "code",
      "source": [
        "firstname = \"jose\"\n",
        "lastname = \"suarez\"\n",
        "fullname = firstname + \" \" + lastname\n",
        "print(fullname)"
      ],
      "metadata": {
        "colab": {
          "base_uri": "https://localhost:8080/"
        },
        "id": "uA57eV-7krrU",
        "outputId": "d741b54e-42ee-4b6c-ccfd-0a46d310dea2"
      },
      "execution_count": 22,
      "outputs": [
        {
          "output_type": "stream",
          "name": "stdout",
          "text": [
            "jose suarez\n"
          ]
        }
      ]
    },
    {
      "cell_type": "code",
      "source": [
        "a = 3\n",
        "b = 5\n",
        "print (a == b)\n",
        "print(a != b)\n",
        "print(a > b)\n",
        "print(a < b)\n",
        "print(a == b) and (b + 3 > 5)\n"
      ],
      "metadata": {
        "colab": {
          "base_uri": "https://localhost:8080/"
        },
        "id": "A4o44jvimoRU",
        "outputId": "37e0cbb6-0214-476f-fd68-a1b75e22cc48"
      },
      "execution_count": 26,
      "outputs": [
        {
          "output_type": "stream",
          "name": "stdout",
          "text": [
            "False\n",
            "True\n",
            "False\n",
            "True\n",
            "False\n"
          ]
        }
      ]
    }
  ]
}