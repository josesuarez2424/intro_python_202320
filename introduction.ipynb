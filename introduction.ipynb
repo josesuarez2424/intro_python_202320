{
  "nbformat": 4,
  "nbformat_minor": 0,
  "metadata": {
    "colab": {
      "provenance": [],
      "authorship_tag": "ABX9TyMq5essSU/uUJpnMdTE653R",
      "include_colab_link": true
    },
    "kernelspec": {
      "name": "python3",
      "display_name": "Python 3"
    },
    "language_info": {
      "name": "python"
    }
  },
  "cells": [
    {
      "cell_type": "markdown",
      "metadata": {
        "id": "view-in-github",
        "colab_type": "text"
      },
      "source": [
        "<a href=\"https://colab.research.google.com/github/josesuarez2424/intro_python_202320/blob/main/introduction.ipynb\" target=\"_parent\"><img src=\"https://colab.research.google.com/assets/colab-badge.svg\" alt=\"Open In Colab\"/></a>"
      ]
    },
    {
      "cell_type": "markdown",
      "source": [
        "# introduccion a python"
      ],
      "metadata": {
        "id": "BnsTQOBHFySu"
      }
    },
    {
      "cell_type": "markdown",
      "source": [
        "# introduccion a python\n",
        "## curso de programacion y algorimia upb 202320\n",
        "\n",
        "- Nombre: jose daniel suarez y Angely Jaramillo Carvajal\n",
        "- ID: 00453189 , 000499571\n",
        "- Email: suarez.josedaniel03@gmail.com , angely.jaramillo@gmail.com\n",
        "\n",
        "esta es la expresion de la linea  recta:\n",
        "$$y = mx + b$$\n",
        "\n",
        "donde $x$ es la posicion\n",
        "\n"
      ],
      "metadata": {
        "id": "vlycx1BwFjWY"
      }
    },
    {
      "cell_type": "code",
      "source": [
        "# mis primeras lineas de codigo en python\n",
        "\n",
        "name = \"jose daniel\"\n",
        "print(\"hello,\", name)\n"
      ],
      "metadata": {
        "colab": {
          "base_uri": "https://localhost:8080/"
        },
        "id": "pzQBG5RuINdM",
        "outputId": "a5cdd59c-f268-4afe-f5ce-3a7d29754dfd"
      },
      "execution_count": 1,
      "outputs": [
        {
          "output_type": "stream",
          "name": "stdout",
          "text": [
            "hello, jose daniel\n"
          ]
        }
      ]
    },
    {
      "cell_type": "code",
      "source": [
        "from typing_extensions import AsyncGenerator\n",
        "firstname = \"jose\"\n",
        "lastname = \"suarez\"\n",
        "age = \"20\"\n",
        "city = \"san marcos\"\n",
        "food = \"mote de queso\"\n",
        "\n",
        "print(\"hola, mi nombre es\", firstname, \"tengo\" , age, \"años, vivo en\" , city, \"y me gusta el\", food)\n",
        "\n"
      ],
      "metadata": {
        "colab": {
          "base_uri": "https://localhost:8080/"
        },
        "id": "o7X8K2JWSLyY",
        "outputId": "eb606075-ef31-4178-85c4-d12e07edce99"
      },
      "execution_count": 3,
      "outputs": [
        {
          "output_type": "stream",
          "name": "stdout",
          "text": [
            "hola, mi nombre es jose tengo 20 años, vivo en san marcos y me gusta el mote de queso\n"
          ]
        }
      ]
    }
  ]
}