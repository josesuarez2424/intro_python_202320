{
  "nbformat": 4,
  "nbformat_minor": 0,
  "metadata": {
    "colab": {
      "provenance": [],
      "authorship_tag": "ABX9TyMcyoBCJnlt/DIICWuaBb4C",
      "include_colab_link": true
    },
    "kernelspec": {
      "name": "python3",
      "display_name": "Python 3"
    },
    "language_info": {
      "name": "python"
    }
  },
  "cells": [
    {
      "cell_type": "markdown",
      "metadata": {
        "id": "view-in-github",
        "colab_type": "text"
      },
      "source": [
        "<a href=\"https://colab.research.google.com/github/josesuarez2424/intro_python_202320/blob/main/introduction.ipynb\" target=\"_parent\"><img src=\"https://colab.research.google.com/assets/colab-badge.svg\" alt=\"Open In Colab\"/></a>"
      ]
    },
    {
      "cell_type": "markdown",
      "source": [
        "# introduccion a python"
      ],
      "metadata": {
        "id": "BnsTQOBHFySu"
      }
    },
    {
      "cell_type": "markdown",
      "source": [
        "# introduccion a python\n",
        "\n",
        "## curso de programacion y algorimia upb 202320\n",
        "\n",
        "- Nombre: jose daniel suarez\n",
        "- ID: 00453189\n",
        "- Email: suarez.josedaniel03@gmail.com\n",
        "\n",
        "esta es la expresion de la linea  recta:\n",
        "$$y = mx + b$$\n",
        "\n",
        "donde $x$ es la posicion\n",
        "\n"
      ],
      "metadata": {
        "id": "vlycx1BwFjWY"
      }
    },
    {
      "cell_type": "code",
      "source": [],
      "metadata": {
        "id": "pzQBG5RuINdM"
      },
      "execution_count": null,
      "outputs": []
    },
    {
      "cell_type": "code",
      "execution_count": null,
      "metadata": {
        "id": "rIzcw1QzEJ_3"
      },
      "outputs": [],
      "source": []
    }
  ]
}